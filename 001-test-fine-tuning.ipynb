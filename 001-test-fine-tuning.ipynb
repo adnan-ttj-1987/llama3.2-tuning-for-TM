{
  "nbformat": 4,
  "nbformat_minor": 0,
  "metadata": {
    "colab": {
      "provenance": [],
      "authorship_tag": "ABX9TyMUrGxE1N0XRew28CNbsNzU",
      "include_colab_link": true
    },
    "kernelspec": {
      "name": "python3",
      "display_name": "Python 3"
    },
    "language_info": {
      "name": "python"
    }
  },
  "cells": [
    {
      "cell_type": "markdown",
      "metadata": {
        "id": "view-in-github",
        "colab_type": "text"
      },
      "source": [
        "<a href=\"https://colab.research.google.com/github/adnan-ttj-1987/llama3.2-tuning-for-TM/blob/main/001-test-fine-tuning.ipynb\" target=\"_parent\"><img src=\"https://colab.research.google.com/assets/colab-badge.svg\" alt=\"Open In Colab\"/></a>"
      ]
    },
    {
      "cell_type": "code",
      "execution_count": null,
      "metadata": {
        "id": "I9dvodiNTofm"
      },
      "outputs": [],
      "source": [
        "Generate a complete, single-cell Python script for a Google Colab notebook that performs QLoRA (Quantized Low-Rank Adaptation) fine-tuning on a Llama 3-8B-Instruct model (specifically, 'meta-llama/Llama-3-8B-Instruct').\n",
        "\n",
        "**1. Core Requirements & Libraries:**\n",
        "* The script must use the **Unsloth** library for its speed and memory efficiency.\n",
        "* The script should include all necessary installations (`unsloth`, `trl`, `peft`, `accelerate`, `bitsandbytes`) at the beginning.\n",
        "* Assume the user will use a **free Google Colab T4 GPU** instance, so memory efficiency is critical.\n",
        "* Use `load_in_4bit=True` with `bfloat16` compute data type for optimal performance on T4.\n",
        "\n",
        "**2. Dataset and Preprocessing:**\n",
        "* Use a readily available, high-quality instruction-following dataset from the Hugging Face Hub for demonstration, such as **`yahma/alpaca-cleaned`** (or a similar instruction dataset).\n",
        "* The script must clearly define a **Llama 3 Chat Template** function to format the dataset into the correct 'instruction/response' structure required for instruction-tuning (e.g., using `apply_chat_template`).\n",
        "* The fine-tuning should only be performed on the **response** part of the chat template (this is the standard and most efficient practice for instruction fine-tuning).\n",
        "\n",
        "**3. QLoRA and Training Parameters:**\n",
        "* The script should define the following parameters using the Unsloth/PEFT configuration:\n",
        "    * **LoRA Rank (`r`):** 16\n",
        "    * **LoRA Alpha (`lora_alpha`):** 16\n",
        "    * **LoRA Dropout (`lora_dropout`):** 0.0 (as recommended by Unsloth for speed)\n",
        "    * **Max Sequence Length (`max_seq_length`):** 2048\n",
        "* The script should define the `TrainingArguments` (from `trl.SFTTrainer`):\n",
        "    * **Epochs (`num_train_epochs`):** 1.0 (to fit within Colab limits)\n",
        "    * **Learning Rate (`learning_rate`):** 2e-4\n",
        "    * **Per Device Train Batch Size (`per_device_train_batch_size`):** 2 (Maximize for a T4 GPU)\n",
        "    * **Gradient Accumulation Steps (`gradient_accumulation_steps`):** 4\n",
        "    * **Output Directory (`output_dir`):** \"Llama-3-8B-tuned\"\n",
        "    * **Logging:** Use `logging_steps=25` and disable W&B logging for simplicity.\n",
        "\n",
        "**4. Final Steps & Output:**\n",
        "* After training, the script must show how to **save the fine-tuned model and tokenizer** in the PEFT format.\n",
        "* Finally, include a brief **inference test** using the newly trained model with a simple, new prompt to demonstrate that the fine-tuning was successful.\n",
        "\n",
        "**Your output must be a single, complete, executable Python code block ready to be pasted into a Google Colab cell.**"
      ]
    }
  ]
}